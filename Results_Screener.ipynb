{
  "cells": [
    {
      "cell_type": "markdown",
      "metadata": {
        "colab_type": "text",
        "id": "view-in-github"
      },
      "source": [
        "<a href=\"https://colab.research.google.com/github/monsterspy/Results-Screener/blob/main/Results_Screener.ipynb\" target=\"_parent\"><img src=\"https://colab.research.google.com/assets/colab-badge.svg\" alt=\"Open In Colab\"/></a>"
      ]
    },
    {
      "cell_type": "code",
      "execution_count": 1,
      "metadata": {
        "id": "78eHyjcxnLoO"
      },
      "outputs": [],
      "source": [
        "import nsepython\n",
        "import nsepy\n",
        "import pandas as pd\n",
        "import numpy as np\n",
        "from datetime import timedelta, date\n",
        "DAYS_AHEAD = 14\n",
        "DAYS_BEHIND = 7"
      ]
    },
    {
      "cell_type": "code",
      "execution_count": 2,
      "metadata": {},
      "outputs": [],
      "source": [
        "def get_stocks_with_upcoming_results():\n",
        "    results = nsepython.nse_events()\n",
        "    results['date'] = pd.to_datetime(results['date'])\n",
        "    results = results[(results['purpose'] == \"Financial Results\") & (results['date'] <= pd.to_datetime(date.today() + timedelta(days=DAYS_AHEAD)))].drop_duplicates(subset=[\"symbol\"])\n",
        "    return results"
      ]
    },
    {
      "cell_type": "code",
      "execution_count": 3,
      "metadata": {},
      "outputs": [],
      "source": [
        "results = get_stocks_with_upcoming_results()"
      ]
    },
    {
      "cell_type": "code",
      "execution_count": 4,
      "metadata": {},
      "outputs": [],
      "source": [
        "def get_relative_change(df):\n",
        "    close = df[\"Close\"].values\n",
        "    change_pct = (close[len(close)-1]-close[0])/close[0]*100\n",
        "    return round(change_pct, 2)\n"
      ]
    },
    {
      "cell_type": "code",
      "execution_count": 5,
      "metadata": {},
      "outputs": [],
      "source": [
        "def get_no_higher_highs(df):\n",
        "    cnt = 0\n",
        "    close = df[\"Close\"].values\n",
        "    for idx in range(1, len(close)):\n",
        "        if close[idx] >= close[idx-1]:\n",
        "            cnt+=1\n",
        "    return cnt"
      ]
    },
    {
      "cell_type": "code",
      "execution_count": 6,
      "metadata": {},
      "outputs": [],
      "source": [
        "def is_increasing(df):\n",
        "    delv = df[\"%Deliverble\"].values\n",
        "    n = len(delv)\n",
        "    if (delv[n-1] >= delv[n-2]) and (delv[n-2] >= delv[n-3]):\n",
        "        return True\n",
        "    return False"
      ]
    },
    {
      "cell_type": "code",
      "execution_count": 7,
      "metadata": {},
      "outputs": [
        {
          "name": "stdout",
          "output_type": "stream",
          "text": [
            "index -2 is out of bounds for axis 0 with size 1\n"
          ]
        }
      ],
      "source": [
        "start_date = date.today() - timedelta(days=DAYS_BEHIND)\n",
        "ticker_info = []\n",
        "\n",
        "for row in results.iterrows():\n",
        "    symbol = row[1]['symbol']\n",
        "    date = row[1]['date'].date()\n",
        "\n",
        "    try:\n",
        "        data = nsepy.get_history(symbol=symbol, start=start_date, end=date.today())\n",
        "        if len(data) == 0:\n",
        "            continue\n",
        "        relative_change = get_relative_change(data)\n",
        "        no_higher_highs = get_no_higher_highs(data)\n",
        "        is_delivery_upside = is_increasing(data)\n",
        "\n",
        "        ticker_info.append([symbol, date, relative_change, no_higher_highs, is_delivery_upside])\n",
        "    except Exception as e:\n",
        "        print(e)\n",
        "    \n",
        "\n",
        "    "
      ]
    },
    {
      "cell_type": "code",
      "execution_count": 8,
      "metadata": {},
      "outputs": [],
      "source": [
        "tickers_df = pd.DataFrame(ticker_info)\n",
        "tickers_df.columns = [\"symbol\", \"results_date\", \"relative_change_7D\", \"higher_highs_count\", \"is_delivery_increasing\"]\n",
        "tickers_df = tickers_df.sort_values(by=[\"relative_change_7D\"], ascending=False).reset_index(drop=True)"
      ]
    },
    {
      "cell_type": "code",
      "execution_count": 9,
      "metadata": {},
      "outputs": [
        {
          "data": {
            "text/html": [
              "<div>\n",
              "<style scoped>\n",
              "    .dataframe tbody tr th:only-of-type {\n",
              "        vertical-align: middle;\n",
              "    }\n",
              "\n",
              "    .dataframe tbody tr th {\n",
              "        vertical-align: top;\n",
              "    }\n",
              "\n",
              "    .dataframe thead th {\n",
              "        text-align: right;\n",
              "    }\n",
              "</style>\n",
              "<table border=\"1\" class=\"dataframe\">\n",
              "  <thead>\n",
              "    <tr style=\"text-align: right;\">\n",
              "      <th></th>\n",
              "      <th>symbol</th>\n",
              "      <th>results_date</th>\n",
              "      <th>relative_change_7D</th>\n",
              "      <th>higher_highs_count</th>\n",
              "      <th>is_delivery_increasing</th>\n",
              "    </tr>\n",
              "  </thead>\n",
              "  <tbody>\n",
              "    <tr>\n",
              "      <th>0</th>\n",
              "      <td>SURANASOL</td>\n",
              "      <td>2021-10-22</td>\n",
              "      <td>32.93</td>\n",
              "      <td>4</td>\n",
              "      <td>False</td>\n",
              "    </tr>\n",
              "    <tr>\n",
              "      <th>1</th>\n",
              "      <td>BORORENEW</td>\n",
              "      <td>2021-10-21</td>\n",
              "      <td>30.41</td>\n",
              "      <td>3</td>\n",
              "      <td>False</td>\n",
              "    </tr>\n",
              "    <tr>\n",
              "      <th>2</th>\n",
              "      <td>TATAPOWER</td>\n",
              "      <td>2021-10-28</td>\n",
              "      <td>26.13</td>\n",
              "      <td>3</td>\n",
              "      <td>False</td>\n",
              "    </tr>\n",
              "    <tr>\n",
              "      <th>3</th>\n",
              "      <td>DMART</td>\n",
              "      <td>2021-10-16</td>\n",
              "      <td>18.68</td>\n",
              "      <td>4</td>\n",
              "      <td>False</td>\n",
              "    </tr>\n",
              "    <tr>\n",
              "      <th>4</th>\n",
              "      <td>INDHOTEL</td>\n",
              "      <td>2021-10-21</td>\n",
              "      <td>17.69</td>\n",
              "      <td>4</td>\n",
              "      <td>False</td>\n",
              "    </tr>\n",
              "  </tbody>\n",
              "</table>\n",
              "</div>"
            ],
            "text/plain": [
              "      symbol results_date  relative_change_7D  higher_highs_count  \\\n",
              "0  SURANASOL   2021-10-22               32.93                   4   \n",
              "1  BORORENEW   2021-10-21               30.41                   3   \n",
              "2  TATAPOWER   2021-10-28               26.13                   3   \n",
              "3      DMART   2021-10-16               18.68                   4   \n",
              "4   INDHOTEL   2021-10-21               17.69                   4   \n",
              "\n",
              "   is_delivery_increasing  \n",
              "0                   False  \n",
              "1                   False  \n",
              "2                   False  \n",
              "3                   False  \n",
              "4                   False  "
            ]
          },
          "execution_count": 9,
          "metadata": {},
          "output_type": "execute_result"
        }
      ],
      "source": [
        "tickers_df.head()"
      ]
    },
    {
      "cell_type": "code",
      "execution_count": 10,
      "metadata": {},
      "outputs": [],
      "source": [
        "tickers_df.to_csv(\"sample_results.csv\", index=False)"
      ]
    },
    {
      "cell_type": "code",
      "execution_count": null,
      "metadata": {},
      "outputs": [],
      "source": []
    },
    {
      "cell_type": "code",
      "execution_count": null,
      "metadata": {},
      "outputs": [],
      "source": []
    }
  ],
  "metadata": {
    "colab": {
      "authorship_tag": "ABX9TyN/lCTYAUd85OynyFW24kdJ",
      "include_colab_link": true,
      "name": "Results_Screener",
      "provenance": []
    },
    "interpreter": {
      "hash": "3c1e367b97d2bea4bac2abd7715b87ec12aa457c022ddd6d9d79c13331eeaae6"
    },
    "kernelspec": {
      "display_name": "Python 3.8.8 64-bit",
      "name": "python3"
    },
    "language_info": {
      "codemirror_mode": {
        "name": "ipython",
        "version": 3
      },
      "file_extension": ".py",
      "mimetype": "text/x-python",
      "name": "python",
      "nbconvert_exporter": "python",
      "pygments_lexer": "ipython3",
      "version": "3.8.8"
    }
  },
  "nbformat": 4,
  "nbformat_minor": 0
}
