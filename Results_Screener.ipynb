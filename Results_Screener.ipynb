{
  "cells": [
    {
      "cell_type": "markdown",
      "metadata": {
        "colab_type": "text",
        "id": "view-in-github"
      },
      "source": [
        "<a href=\"https://colab.research.google.com/github/monsterspy/Results-Screener/blob/main/Results_Screener.ipynb\" target=\"_parent\"><img src=\"https://colab.research.google.com/assets/colab-badge.svg\" alt=\"Open In Colab\"/></a>"
      ]
    },
    {
      "cell_type": "code",
      "execution_count": 36,
      "metadata": {
        "id": "78eHyjcxnLoO"
      },
      "outputs": [],
      "source": [
        "import nsepython\n",
        "import nsepy\n",
        "import pandas as pd\n",
        "import numpy as np\n",
        "from datetime import timedelta, date\n",
        "DAYS_AHEAD = 14"
      ]
    },
    {
      "cell_type": "code",
      "execution_count": 37,
      "metadata": {},
      "outputs": [],
      "source": [
        "results = nsepython.nse_events()\n",
        "results['date'] = pd.to_datetime(results['date'])\n",
        "results = results[(results['purpose'] == \"Financial Results\") & (results['date'] <= pd.to_datetime(date.today() + timedelta(days=DAYS_AHEAD)))].drop_duplicates(subset=[\"symbol\"])"
      ]
    },
    {
      "cell_type": "code",
      "execution_count": 38,
      "metadata": {},
      "outputs": [
        {
          "data": {
            "text/html": [
              "<div>\n",
              "<style scoped>\n",
              "    .dataframe tbody tr th:only-of-type {\n",
              "        vertical-align: middle;\n",
              "    }\n",
              "\n",
              "    .dataframe tbody tr th {\n",
              "        vertical-align: top;\n",
              "    }\n",
              "\n",
              "    .dataframe thead th {\n",
              "        text-align: right;\n",
              "    }\n",
              "</style>\n",
              "<table border=\"1\" class=\"dataframe\">\n",
              "  <thead>\n",
              "    <tr style=\"text-align: right;\">\n",
              "      <th></th>\n",
              "      <th>symbol</th>\n",
              "      <th>company</th>\n",
              "      <th>purpose</th>\n",
              "      <th>bm_desc</th>\n",
              "      <th>date</th>\n",
              "    </tr>\n",
              "  </thead>\n",
              "  <tbody>\n",
              "    <tr>\n",
              "      <th>1</th>\n",
              "      <td>DELTACORP</td>\n",
              "      <td>Delta Corp Limited</td>\n",
              "      <td>Financial Results</td>\n",
              "      <td>To consider and approve the financial results ...</td>\n",
              "      <td>2021-10-11</td>\n",
              "    </tr>\n",
              "    <tr>\n",
              "      <th>2</th>\n",
              "      <td>KRSNAA</td>\n",
              "      <td>Krsnaa Diagnostics Limited</td>\n",
              "      <td>Financial Results</td>\n",
              "      <td>To consider and approve the financial results ...</td>\n",
              "      <td>2021-10-11</td>\n",
              "    </tr>\n",
              "    <tr>\n",
              "      <th>5</th>\n",
              "      <td>SAREGAMA</td>\n",
              "      <td>Saregama India Limited</td>\n",
              "      <td>Financial Results</td>\n",
              "      <td>To consider and approve the financial results ...</td>\n",
              "      <td>2021-10-11</td>\n",
              "    </tr>\n",
              "    <tr>\n",
              "      <th>6</th>\n",
              "      <td>TATAMETALI</td>\n",
              "      <td>Tata Metaliks Limited</td>\n",
              "      <td>Financial Results</td>\n",
              "      <td>To consider and approve the financial results ...</td>\n",
              "      <td>2021-10-11</td>\n",
              "    </tr>\n",
              "    <tr>\n",
              "      <th>8</th>\n",
              "      <td>TINPLATE</td>\n",
              "      <td>The Tinplate Company of India Limited</td>\n",
              "      <td>Financial Results</td>\n",
              "      <td>To consider and approve the financial results ...</td>\n",
              "      <td>2021-10-11</td>\n",
              "    </tr>\n",
              "  </tbody>\n",
              "</table>\n",
              "</div>"
            ],
            "text/plain": [
              "       symbol                                company            purpose  \\\n",
              "1   DELTACORP                     Delta Corp Limited  Financial Results   \n",
              "2      KRSNAA             Krsnaa Diagnostics Limited  Financial Results   \n",
              "5    SAREGAMA                 Saregama India Limited  Financial Results   \n",
              "6  TATAMETALI                  Tata Metaliks Limited  Financial Results   \n",
              "8    TINPLATE  The Tinplate Company of India Limited  Financial Results   \n",
              "\n",
              "                                             bm_desc       date  \n",
              "1  To consider and approve the financial results ... 2021-10-11  \n",
              "2  To consider and approve the financial results ... 2021-10-11  \n",
              "5  To consider and approve the financial results ... 2021-10-11  \n",
              "6  To consider and approve the financial results ... 2021-10-11  \n",
              "8  To consider and approve the financial results ... 2021-10-11  "
            ]
          },
          "execution_count": 38,
          "metadata": {},
          "output_type": "execute_result"
        }
      ],
      "source": [
        "results.head()"
      ]
    },
    {
      "cell_type": "code",
      "execution_count": 40,
      "metadata": {},
      "outputs": [],
      "source": [
        "start_date = date.today() - timedelta(days=DAYS_AHEAD)\n",
        "data = nsepy.get_history(symbol=\"SBIN\", start=start_date, end=date.today())"
      ]
    },
    {
      "cell_type": "code",
      "execution_count": 41,
      "metadata": {},
      "outputs": [
        {
          "data": {
            "text/plain": [
              "Index(['Symbol', 'Series', 'Prev Close', 'Open', 'High', 'Low', 'Last',\n",
              "       'Close', 'VWAP', 'Volume', 'Turnover', 'Trades', 'Deliverable Volume',\n",
              "       '%Deliverble'],\n",
              "      dtype='object')"
            ]
          },
          "execution_count": 41,
          "metadata": {},
          "output_type": "execute_result"
        }
      ],
      "source": [
        "data.columns"
      ]
    },
    {
      "cell_type": "code",
      "execution_count": null,
      "metadata": {},
      "outputs": [],
      "source": []
    }
  ],
  "metadata": {
    "colab": {
      "authorship_tag": "ABX9TyN/lCTYAUd85OynyFW24kdJ",
      "include_colab_link": true,
      "name": "Results_Screener",
      "provenance": []
    },
    "interpreter": {
      "hash": "3c1e367b97d2bea4bac2abd7715b87ec12aa457c022ddd6d9d79c13331eeaae6"
    },
    "kernelspec": {
      "display_name": "Python 3.8.8 64-bit",
      "name": "python3"
    },
    "language_info": {
      "codemirror_mode": {
        "name": "ipython",
        "version": 3
      },
      "file_extension": ".py",
      "mimetype": "text/x-python",
      "name": "python",
      "nbconvert_exporter": "python",
      "pygments_lexer": "ipython3",
      "version": "3.8.8"
    }
  },
  "nbformat": 4,
  "nbformat_minor": 0
}
